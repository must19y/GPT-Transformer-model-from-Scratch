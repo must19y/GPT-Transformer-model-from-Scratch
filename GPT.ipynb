{
  "nbformat": 4,
  "nbformat_minor": 0,
  "metadata": {
    "colab": {
      "provenance": [],
      "authorship_tag": "ABX9TyPydBRm+5UqMSrFWqgASsaI",
      "include_colab_link": true
    },
    "kernelspec": {
      "name": "python3",
      "display_name": "Python 3"
    },
    "language_info": {
      "name": "python"
    }
  },
  "cells": [
    {
      "cell_type": "markdown",
      "metadata": {
        "id": "view-in-github",
        "colab_type": "text"
      },
      "source": [
        "<a href=\"https://colab.research.google.com/github/must19y/GPT-Transformer-model-from-Scratch/blob/main/GPT.ipynb\" target=\"_parent\"><img src=\"https://colab.research.google.com/assets/colab-badge.svg\" alt=\"Open In Colab\"/></a>"
      ]
    },
    {
      "cell_type": "code",
      "execution_count": null,
      "metadata": {
        "id": "UQwJ-XFZfIsD"
      },
      "outputs": [],
      "source": [
        "import tensorflow as tf\n",
        "from  tensorflow.keras import layers,metrics,losses,models"
      ]
    },
    {
      "cell_type": "code",
      "source": [
        "from google.colab import files\n",
        "files.upload()"
      ],
      "metadata": {
        "colab": {
          "base_uri": "https://localhost:8080/",
          "height": 142
        },
        "id": "0yRd5EqB98ND",
        "outputId": "1548719d-8828-4711-8452-be5abcaef94b"
      },
      "execution_count": null,
      "outputs": [
        {
          "output_type": "display_data",
          "data": {
            "text/plain": [
              "<IPython.core.display.HTML object>"
            ],
            "text/html": [
              "\n",
              "     <input type=\"file\" id=\"files-f6561a3e-f1d3-49fe-9187-b183ffe19d0a\" name=\"files[]\" multiple disabled\n",
              "        style=\"border:none\" />\n",
              "     <output id=\"result-f6561a3e-f1d3-49fe-9187-b183ffe19d0a\">\n",
              "      Upload widget is only available when the cell has been executed in the\n",
              "      current browser session. Please rerun this cell to enable.\n",
              "      </output>\n",
              "      <script>// Copyright 2017 Google LLC\n",
              "//\n",
              "// Licensed under the Apache License, Version 2.0 (the \"License\");\n",
              "// you may not use this file except in compliance with the License.\n",
              "// You may obtain a copy of the License at\n",
              "//\n",
              "//      http://www.apache.org/licenses/LICENSE-2.0\n",
              "//\n",
              "// Unless required by applicable law or agreed to in writing, software\n",
              "// distributed under the License is distributed on an \"AS IS\" BASIS,\n",
              "// WITHOUT WARRANTIES OR CONDITIONS OF ANY KIND, either express or implied.\n",
              "// See the License for the specific language governing permissions and\n",
              "// limitations under the License.\n",
              "\n",
              "/**\n",
              " * @fileoverview Helpers for google.colab Python module.\n",
              " */\n",
              "(function(scope) {\n",
              "function span(text, styleAttributes = {}) {\n",
              "  const element = document.createElement('span');\n",
              "  element.textContent = text;\n",
              "  for (const key of Object.keys(styleAttributes)) {\n",
              "    element.style[key] = styleAttributes[key];\n",
              "  }\n",
              "  return element;\n",
              "}\n",
              "\n",
              "// Max number of bytes which will be uploaded at a time.\n",
              "const MAX_PAYLOAD_SIZE = 100 * 1024;\n",
              "\n",
              "function _uploadFiles(inputId, outputId) {\n",
              "  const steps = uploadFilesStep(inputId, outputId);\n",
              "  const outputElement = document.getElementById(outputId);\n",
              "  // Cache steps on the outputElement to make it available for the next call\n",
              "  // to uploadFilesContinue from Python.\n",
              "  outputElement.steps = steps;\n",
              "\n",
              "  return _uploadFilesContinue(outputId);\n",
              "}\n",
              "\n",
              "// This is roughly an async generator (not supported in the browser yet),\n",
              "// where there are multiple asynchronous steps and the Python side is going\n",
              "// to poll for completion of each step.\n",
              "// This uses a Promise to block the python side on completion of each step,\n",
              "// then passes the result of the previous step as the input to the next step.\n",
              "function _uploadFilesContinue(outputId) {\n",
              "  const outputElement = document.getElementById(outputId);\n",
              "  const steps = outputElement.steps;\n",
              "\n",
              "  const next = steps.next(outputElement.lastPromiseValue);\n",
              "  return Promise.resolve(next.value.promise).then((value) => {\n",
              "    // Cache the last promise value to make it available to the next\n",
              "    // step of the generator.\n",
              "    outputElement.lastPromiseValue = value;\n",
              "    return next.value.response;\n",
              "  });\n",
              "}\n",
              "\n",
              "/**\n",
              " * Generator function which is called between each async step of the upload\n",
              " * process.\n",
              " * @param {string} inputId Element ID of the input file picker element.\n",
              " * @param {string} outputId Element ID of the output display.\n",
              " * @return {!Iterable<!Object>} Iterable of next steps.\n",
              " */\n",
              "function* uploadFilesStep(inputId, outputId) {\n",
              "  const inputElement = document.getElementById(inputId);\n",
              "  inputElement.disabled = false;\n",
              "\n",
              "  const outputElement = document.getElementById(outputId);\n",
              "  outputElement.innerHTML = '';\n",
              "\n",
              "  const pickedPromise = new Promise((resolve) => {\n",
              "    inputElement.addEventListener('change', (e) => {\n",
              "      resolve(e.target.files);\n",
              "    });\n",
              "  });\n",
              "\n",
              "  const cancel = document.createElement('button');\n",
              "  inputElement.parentElement.appendChild(cancel);\n",
              "  cancel.textContent = 'Cancel upload';\n",
              "  const cancelPromise = new Promise((resolve) => {\n",
              "    cancel.onclick = () => {\n",
              "      resolve(null);\n",
              "    };\n",
              "  });\n",
              "\n",
              "  // Wait for the user to pick the files.\n",
              "  const files = yield {\n",
              "    promise: Promise.race([pickedPromise, cancelPromise]),\n",
              "    response: {\n",
              "      action: 'starting',\n",
              "    }\n",
              "  };\n",
              "\n",
              "  cancel.remove();\n",
              "\n",
              "  // Disable the input element since further picks are not allowed.\n",
              "  inputElement.disabled = true;\n",
              "\n",
              "  if (!files) {\n",
              "    return {\n",
              "      response: {\n",
              "        action: 'complete',\n",
              "      }\n",
              "    };\n",
              "  }\n",
              "\n",
              "  for (const file of files) {\n",
              "    const li = document.createElement('li');\n",
              "    li.append(span(file.name, {fontWeight: 'bold'}));\n",
              "    li.append(span(\n",
              "        `(${file.type || 'n/a'}) - ${file.size} bytes, ` +\n",
              "        `last modified: ${\n",
              "            file.lastModifiedDate ? file.lastModifiedDate.toLocaleDateString() :\n",
              "                                    'n/a'} - `));\n",
              "    const percent = span('0% done');\n",
              "    li.appendChild(percent);\n",
              "\n",
              "    outputElement.appendChild(li);\n",
              "\n",
              "    const fileDataPromise = new Promise((resolve) => {\n",
              "      const reader = new FileReader();\n",
              "      reader.onload = (e) => {\n",
              "        resolve(e.target.result);\n",
              "      };\n",
              "      reader.readAsArrayBuffer(file);\n",
              "    });\n",
              "    // Wait for the data to be ready.\n",
              "    let fileData = yield {\n",
              "      promise: fileDataPromise,\n",
              "      response: {\n",
              "        action: 'continue',\n",
              "      }\n",
              "    };\n",
              "\n",
              "    // Use a chunked sending to avoid message size limits. See b/62115660.\n",
              "    let position = 0;\n",
              "    do {\n",
              "      const length = Math.min(fileData.byteLength - position, MAX_PAYLOAD_SIZE);\n",
              "      const chunk = new Uint8Array(fileData, position, length);\n",
              "      position += length;\n",
              "\n",
              "      const base64 = btoa(String.fromCharCode.apply(null, chunk));\n",
              "      yield {\n",
              "        response: {\n",
              "          action: 'append',\n",
              "          file: file.name,\n",
              "          data: base64,\n",
              "        },\n",
              "      };\n",
              "\n",
              "      let percentDone = fileData.byteLength === 0 ?\n",
              "          100 :\n",
              "          Math.round((position / fileData.byteLength) * 100);\n",
              "      percent.textContent = `${percentDone}% done`;\n",
              "\n",
              "    } while (position < fileData.byteLength);\n",
              "  }\n",
              "\n",
              "  // All done.\n",
              "  yield {\n",
              "    response: {\n",
              "      action: 'complete',\n",
              "    }\n",
              "  };\n",
              "}\n",
              "\n",
              "scope.google = scope.google || {};\n",
              "scope.google.colab = scope.google.colab || {};\n",
              "scope.google.colab._files = {\n",
              "  _uploadFiles,\n",
              "  _uploadFilesContinue,\n",
              "};\n",
              "})(self);\n",
              "</script> "
            ]
          },
          "metadata": {}
        },
        {
          "output_type": "stream",
          "name": "stderr",
          "text": [
            "ERROR:root:Internal Python error in the inspect module.\n",
            "Below is the traceback from this internal error.\n",
            "\n",
            "\n",
            "KeyboardInterrupt\n",
            "\n"
          ]
        }
      ]
    },
    {
      "cell_type": "code",
      "source": [
        "!kaggle datasets download -d zynicide/wine-reviews\n"
      ],
      "metadata": {
        "colab": {
          "base_uri": "https://localhost:8080/"
        },
        "id": "gy03l3KV-fH6",
        "outputId": "8756291c-1d09-487b-e3dd-ea9a0f5f0837"
      },
      "execution_count": null,
      "outputs": [
        {
          "output_type": "stream",
          "name": "stdout",
          "text": [
            "Dataset URL: https://www.kaggle.com/datasets/zynicide/wine-reviews\n",
            "License(s): CC-BY-NC-SA-4.0\n",
            "Downloading wine-reviews.zip to /content\n",
            "100% 50.9M/50.9M [00:03<00:00, 26.5MB/s]\n",
            "100% 50.9M/50.9M [00:03<00:00, 15.0MB/s]\n"
          ]
        }
      ]
    },
    {
      "cell_type": "code",
      "source": [
        "!unzip wine-reviews.zip -d wine-reviews\n"
      ],
      "metadata": {
        "colab": {
          "base_uri": "https://localhost:8080/"
        },
        "id": "JIU3dIKf-fXm",
        "outputId": "368e6944-e04f-4e99-bd07-99dd333bc4b7"
      },
      "execution_count": null,
      "outputs": [
        {
          "output_type": "stream",
          "name": "stdout",
          "text": [
            "Archive:  wine-reviews.zip\n",
            "  inflating: wine-reviews/winemag-data-130k-v2.csv  \n",
            "  inflating: wine-reviews/winemag-data-130k-v2.json  \n",
            "  inflating: wine-reviews/winemag-data_first150k.csv  \n"
          ]
        }
      ]
    },
    {
      "cell_type": "code",
      "source": [
        "import pandas as pd\n",
        "\n",
        "# Load the dataset using pandas\n",
        "wine_data = pd.read_csv('/content/wine-reviews/winemag-data_first150k.csv')\n",
        "\n",
        "print(wine_data.columns)\n",
        "\n",
        "# Filter data: here we're assuming the columns 'title' and 'description' exist\n",
        "filtered_data = [\n",
        "    'Review for' + x['description'] for _,x in wine_data.iterrows()\n",
        "    if 'description' in x and x['description'] is not None\n",
        "]\n",
        "\n",
        "# Display an example of a filtered review\n",
        "print(filtered_data[0])\n"
      ],
      "metadata": {
        "id": "TLfkxbaIB_J4",
        "colab": {
          "base_uri": "https://localhost:8080/"
        },
        "outputId": "c5e85885-b67d-4cfe-dfeb-d7941b13b60a"
      },
      "execution_count": null,
      "outputs": [
        {
          "output_type": "stream",
          "name": "stdout",
          "text": [
            "Index(['Unnamed: 0', 'country', 'description', 'designation', 'points',\n",
            "       'price', 'province', 'region_1', 'region_2', 'variety', 'winery'],\n",
            "      dtype='object')\n",
            "Review forThis tremendous 100% varietal wine hails from Oakville and was aged over three years in oak. Juicy red-cherry fruit and a compelling hint of caramel greet the palate, framed by elegant, fine tannins and a subtle minty tone in the background. Balanced and rewarding from start to finish, it has years ahead of it to develop further nuance. Enjoy 2022–2030.\n"
          ]
        }
      ]
    },
    {
      "cell_type": "code",
      "source": [
        "import re\n",
        "import string\n",
        "\n",
        "def pad_punctuation(s):\n",
        "  s = re.sub(f\"([{string.punctuation}])\", r' \\1 ', s)\n",
        "  s = re.sub(' +', ' ', s)\n",
        "  return s\n",
        "\n",
        "dataset=  [pad_punctuation(x) for x in filtered_data]\n",
        "\n",
        "\n",
        "text_ds= tf.data.Dataset.from_tensor_slices(dataset).batch(128).shuffle(1000)\n",
        "\n",
        "vectorize_layer= layers.TextVectorization(\n",
        "    standardize = 'lower',\n",
        "    max_tokens = 20000,\n",
        "    output_mode = \"int\",\n",
        "    output_sequence_length = 80 + 1,\n",
        "\n",
        ")\n",
        "\n",
        "vectorize_layer.adapt(text_ds)\n",
        "\n",
        "vocab= vectorize_layer.get_vocabulary()\n",
        "\n",
        "\n"
      ],
      "metadata": {
        "id": "TlUBLMLhB_UF"
      },
      "execution_count": null,
      "outputs": []
    },
    {
      "cell_type": "code",
      "source": [
        "## Now we need to creat the training data set we do this by initializing to x and y respectively\n",
        "\n",
        "# Assuming  set up a TextVectorization layer as vectorize_layer\n",
        "def prepare_wine_inputs(text):\n",
        "    # Expand dimensions to match the expected input shape\n",
        "    text = tf.expand_dims(text, -1)\n",
        "\n",
        "    # Tokenize the text using the vectorize_layer\n",
        "    tokenized_sentences = vectorize_layer(text)\n",
        "\n",
        "    # Prepare the input (x) and target (y) by shifting\n",
        "    x = tokenized_sentences[:, :-1]  # All tokens except the last one\n",
        "    y = tokenized_sentences[:, 1:]   # All tokens except the first one (shifted by 1)\n",
        "\n",
        "    return x, y\n",
        "\n",
        "# Apply the function to the dataset (assuming text_ds is the  dataset containing wine descriptions)\n",
        "train_ds = text_ds.map(prepare_wine_inputs)\n",
        "\n",
        "\n",
        "\n",
        "\n"
      ],
      "metadata": {
        "id": "WtOvr3jlB_la"
      },
      "execution_count": null,
      "outputs": []
    },
    {
      "cell_type": "code",
      "source": [
        "## we will use an attention mechanism which outputs a vector with attention scores of the embeddings concatenated.\n",
        "## These scores are multiplied by a weight matrix and produced as an output . The embeddings calculate  the attention scores of the words till it self\n",
        "import numpy as np\n",
        "\n",
        "def causal_attention_mask(batch_size, n_dest, n_src, dtype):\n",
        "   i = tf.range(n_dest)[:, None]\n",
        "   j = tf.range(n_src)\n",
        "   m = i >= j - n_src + n_dest\n",
        "   mask = tf.cast(m, dtype)\n",
        "   mask = tf.reshape(mask, [1, n_dest, n_src])\n",
        "   mult = tf.concat(\n",
        "   [tf.expand_dims(batch_size, -1), tf.constant([1, 1], dtype=tf.int32)], 0)\n",
        "   return tf.tile(mask, mult)\n",
        "np.transpose(causal_attention_mask(1, 10, 10, dtype = tf.int32)[0])"
      ],
      "metadata": {
        "colab": {
          "base_uri": "https://localhost:8080/"
        },
        "id": "mjR4kP2qLGGE",
        "outputId": "593582bd-5eef-492d-8d78-e5ed60757718"
      },
      "execution_count": null,
      "outputs": [
        {
          "output_type": "execute_result",
          "data": {
            "text/plain": [
              "array([[1, 1, 1, 1, 1, 1, 1, 1, 1, 1],\n",
              "       [0, 1, 1, 1, 1, 1, 1, 1, 1, 1],\n",
              "       [0, 0, 1, 1, 1, 1, 1, 1, 1, 1],\n",
              "       [0, 0, 0, 1, 1, 1, 1, 1, 1, 1],\n",
              "       [0, 0, 0, 0, 1, 1, 1, 1, 1, 1],\n",
              "       [0, 0, 0, 0, 0, 1, 1, 1, 1, 1],\n",
              "       [0, 0, 0, 0, 0, 0, 1, 1, 1, 1],\n",
              "       [0, 0, 0, 0, 0, 0, 0, 1, 1, 1],\n",
              "       [0, 0, 0, 0, 0, 0, 0, 0, 1, 1],\n",
              "       [0, 0, 0, 0, 0, 0, 0, 0, 0, 1]], dtype=int32)"
            ]
          },
          "metadata": {},
          "execution_count": 9
        }
      ]
    },
    {
      "cell_type": "code",
      "source": [
        "## Now we need to create a model that calculates the attention scores and then implements the skip connections too using normalization layers and also the\n",
        "## output from the attention multiheads\n",
        "\n",
        "## The transformer model\n",
        "\n",
        "class TransformerBlock(layers.Layer):\n",
        "  def __init__(self, num_heads, key_dim, embed_dim, ff_dim, dropout_rate=0.1):\n",
        "     super(TransformerBlock, self).__init__()\n",
        "     self.num_heads = num_heads\n",
        "     self.key_dim = key_dim\n",
        "     self.embed_dim = embed_dim\n",
        "     self.ff_dim = ff_dim\n",
        "     self.dropout_rate = dropout_rate\n",
        "     self.attn = layers.MultiHeadAttention(\n",
        "     num_heads, key_dim, output_shape = embed_dim\n",
        "     )\n",
        "     self.dropout_1 = layers.Dropout(self.dropout_rate)\n",
        "     self.ln_1 = layers.LayerNormalization(epsilon=1e-6)\n",
        "     self.ffn_1 = layers.Dense(self.ff_dim, activation=\"relu\")\n",
        "     self.ffn_2 = layers.Dense(self.embed_dim)\n",
        "     self.dropout_2 = layers.Dropout(self.dropout_rate)\n",
        "     self.ln_2 = layers.LayerNormalization(epsilon=1e-6)\n",
        "  def call(self, inputs):\n",
        "    input_shape = tf.shape(inputs)\n",
        "    batch_size = input_shape[0]\n",
        "    seq_len = input_shape[1]\n",
        "    causal_mask = causal_attention_mask(\n",
        "    batch_size, seq_len, seq_len, tf.bool\n",
        "    )\n",
        "    attention_output, attention_scores = self.attn(\n",
        "       inputs,\n",
        "       inputs,\n",
        "       attention_mask=causal_mask,\n",
        "       return_attention_scores=True\n",
        "    )\n",
        "    attention_output = self.dropout_1(attention_output)\n",
        "    out1 = self.ln_1(inputs + attention_output)\n",
        "    ffn_1 = self.ffn_1(out1)\n",
        "    ffn_2 = self.ffn_2(ffn_1)\n",
        "    ffn_output = self.dropout_2(ffn_2)\n",
        "    return (self.ln_2(out1 + ffn_output), attention_scores)\n",
        "\n",
        "\n",
        "\n",
        "\n",
        "\n",
        "\n",
        "\n",
        "\n",
        "\n",
        "\n",
        "\n"
      ],
      "metadata": {
        "id": "-GoP0RLkLGRG"
      },
      "execution_count": null,
      "outputs": []
    },
    {
      "cell_type": "code",
      "source": [
        "## Now make the layer inputs with token and positional embeddings so that we can utilize the token+position embedding and keep track of the position of\n",
        "##the sequence\n",
        "\n",
        "class TokenAndPositionEmbedding(layers.Layer):\n",
        "  def __init__(self, maxlen, vocab_size, embed_dim):\n",
        "    super(TokenAndPositionEmbedding, self).__init__()\n",
        "    self.maxlen = maxlen\n",
        "    self.vocab_size =vocab_size\n",
        "    self.embed_dim = embed_dim\n",
        "    self.token_emb = layers.Embedding(\n",
        "    input_dim=vocab_size, output_dim=embed_dim\n",
        "    )\n",
        "    self.pos_emb = layers.Embedding(input_dim=maxlen, output_dim=embed_dim)\n",
        "  def call(self, x):\n",
        "   maxlen = tf.shape(x)[-1]\n",
        "   positions = tf.range(start=0, limit=maxlen, delta=1)\n",
        "   positions = self.pos_emb(positions)\n",
        "   x = self.token_emb(x)\n",
        "   return x + positions\n",
        "\n",
        "\n",
        "\n",
        "\n",
        "\n",
        "\n"
      ],
      "metadata": {
        "id": "3tMAYRbpLGat"
      },
      "execution_count": null,
      "outputs": []
    },
    {
      "cell_type": "code",
      "source": [
        "## Now training our GPT model\n",
        "\n",
        "## GPT Model\n",
        "\n",
        "\n",
        "MAX_LEN = 80\n",
        "VOCAB_SIZE = 20000\n",
        "EMBEDDING_DIM = 256\n",
        "N_HEADS = 2\n",
        "KEY_DIM = 256\n",
        "FEED_FORWARD_DIM = 256\n",
        "inputs = layers.Input(shape=(None,), dtype=tf.int32)\n",
        "x = TokenAndPositionEmbedding(MAX_LEN, VOCAB_SIZE, EMBEDDING_DIM)(inputs)\n",
        "x, attention_scores = TransformerBlock(\n",
        "N_HEADS, KEY_DIM, EMBEDDING_DIM, FEED_FORWARD_DIM\n",
        ")(x)\n",
        "outputs = layers.Dense(VOCAB_SIZE, activation = 'softmax')(x)\n",
        "gpt = models.Model(inputs=inputs, outputs=[outputs, attention_scores])\n",
        "gpt.compile(\"adam\", loss=[losses.SparseCategoricalCrossentropy(), None])\n",
        "gpt.fit(train_ds, epochs=1)\n",
        "\n"
      ],
      "metadata": {
        "id": "V9c6zVBmLGeu",
        "colab": {
          "base_uri": "https://localhost:8080/"
        },
        "outputId": "f435de24-fa37-49d5-b4c2-fee388b947f5"
      },
      "execution_count": null,
      "outputs": [
        {
          "output_type": "stream",
          "name": "stdout",
          "text": [
            "\u001b[1m1180/1180\u001b[0m \u001b[32m━━━━━━━━━━━━━━━━━━━━\u001b[0m\u001b[37m\u001b[0m \u001b[1m19175s\u001b[0m 16s/step - loss: 3.0081\n"
          ]
        },
        {
          "output_type": "execute_result",
          "data": {
            "text/plain": [
              "<keras.src.callbacks.history.History at 0x7b4e9358da50>"
            ]
          },
          "metadata": {},
          "execution_count": 12
        }
      ]
    },
    {
      "cell_type": "code",
      "source": [
        "## finally we generate the text using a custom made class\n",
        "\n",
        "from tensorflow.keras import callbacks\n",
        "\n",
        "class TextGenerator(callbacks.Callback):\n",
        "    def __init__(self,model,index_to_word, top_k=10):\n",
        "        self.gpt_model= model\n",
        "        self.index_to_word = index_to_word\n",
        "        self.word_to_index = {\n",
        "            word: index for index, word in enumerate(index_to_word)\n",
        "        }\n",
        "\n",
        "    def sample_from(self, probs, temperature):\n",
        "        probs= probs.flatten()\n",
        "        probs = probs ** (1 / temperature)\n",
        "        probs = probs / np.sum(probs)\n",
        "        return np.random.choice(len(probs), p=probs), probs\n",
        "\n",
        "    def generate(self, start_prompt, max_tokens, temperature):\n",
        "        start_tokens = [\n",
        "            self.word_to_index.get(x, 1) for x in start_prompt.split()\n",
        "        ]\n",
        "        sample_token = None\n",
        "        info = []\n",
        "        while len(start_tokens) < max_tokens and sample_token != 0:\n",
        "            x = np.array([start_tokens])\n",
        "            y = self.gpt_model.predict(x)\n",
        "            sample_token, probs = self.sample_from(y[0][-1], temperature)\n",
        "            if sample_token >= len(self.index_to_word):\n",
        "                sample_token = 0  # Use 0 for padding or unknown token\n",
        "\n",
        "            info.append({'prompt': start_prompt, 'word_probs': probs})\n",
        "            start_tokens.append(sample_token)\n",
        "            start_prompt = start_prompt + ' ' + self.index_to_word[sample_token]\n",
        "        print(f\"\\ngenerated text:\\n{start_prompt}\\n\")\n",
        "        return info\n",
        "\n",
        "    def on_epoch_end(self, epoch, logs=None):\n",
        "        self.generate(\"wine review\", max_tokens=100, temperature=1.0)\n",
        "\n",
        "\n",
        "\n",
        "\n",
        "\n",
        "\n",
        "\n"
      ],
      "metadata": {
        "id": "SP1F2Fe6LGp7"
      },
      "execution_count": null,
      "outputs": []
    },
    {
      "cell_type": "code",
      "source": [
        "text_generator = TextGenerator(model=gpt,index_to_word=vocab)\n",
        "generated_text = text_generator.generate(start_prompt=\"wine review for\", max_tokens=100, temperature=1.0)\n",
        "print(generated_text)\n"
      ],
      "metadata": {
        "id": "a4sgClQ7B_x2",
        "colab": {
          "base_uri": "https://localhost:8080/"
        },
        "outputId": "3d32604b-7cd6-4b6c-d5b4-0d6c0f4664f6"
      },
      "execution_count": null,
      "outputs": [
        {
          "output_type": "stream",
          "name": "stdout",
          "text": [
            "\u001b[1m1/1\u001b[0m \u001b[32m━━━━━━━━━━━━━━━━━━━━\u001b[0m\u001b[37m\u001b[0m \u001b[1m0s\u001b[0m 25ms/step\n",
            "\u001b[1m1/1\u001b[0m \u001b[32m━━━━━━━━━━━━━━━━━━━━\u001b[0m\u001b[37m\u001b[0m \u001b[1m0s\u001b[0m 22ms/step\n",
            "\u001b[1m1/1\u001b[0m \u001b[32m━━━━━━━━━━━━━━━━━━━━\u001b[0m\u001b[37m\u001b[0m \u001b[1m0s\u001b[0m 22ms/step\n",
            "\u001b[1m1/1\u001b[0m \u001b[32m━━━━━━━━━━━━━━━━━━━━\u001b[0m\u001b[37m\u001b[0m \u001b[1m0s\u001b[0m 30ms/step\n",
            "\n",
            "generated text:\n",
            "wine review for like with balanced \n",
            "\n",
            "[{'prompt': 'wine review for', 'word_probs': array([2.81588291e-04, 4.33853362e-03, 3.37696895e-02, ...,\n",
            "       4.85280168e-07, 1.02884954e-07, 8.18544876e-08], dtype=float32)}, {'prompt': 'wine review for like', 'word_probs': array([2.1119135e-04, 3.2539051e-03, 2.5327282e-02, ..., 3.9183669e-07,\n",
            "       6.6811594e-08, 7.9774111e-08], dtype=float32)}, {'prompt': 'wine review for like with', 'word_probs': array([1.6895309e-04, 2.6031244e-03, 2.0261828e-02, ..., 1.0336930e-07,\n",
            "       4.7233122e-08, 1.1471105e-08], dtype=float32)}, {'prompt': 'wine review for like with balanced', 'word_probs': array([1.4079423e-04, 2.1692701e-03, 1.6884854e-02, ..., 1.5367401e-07,\n",
            "       2.3308692e-08, 6.8190587e-09], dtype=float32)}]\n"
          ]
        }
      ]
    }
  ]
}